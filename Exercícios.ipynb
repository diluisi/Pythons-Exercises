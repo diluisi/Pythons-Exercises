{
 "cells": [
  {
   "cell_type": "markdown",
   "metadata": {},
   "source": [
    "# Lista 1"
   ]
  },
  {
   "cell_type": "code",
   "execution_count": 65,
   "metadata": {
    "collapsed": false
   },
   "outputs": [
    {
     "name": "stdout",
     "output_type": "stream",
     "text": [
      "Insira o tamanho de n: 10000\n",
      "Insira o primeiro valor do intervalo: 1\n",
      "Insira o segundo valor do intervalo: 3\n",
      "Insira a equação a ser calculada: x**2\n",
      "8.68542666370705\n"
     ]
    }
   ],
   "source": [
    "#Wolfram - https://goo.gl/buJGA6\n",
    "import random\n",
    "import sympy as sy\n",
    "\n",
    "def monte_carlo_media(a,b,n,eq):\n",
    "    acum = 0\n",
    "    for i in range(n):\n",
    "        acum = acum + formula(x = random.uniform(a,b),formula = eq)\n",
    "    lim = (b - a) / n\n",
    "    aprox = lim * acum     \n",
    "    return aprox\n",
    "\n",
    "def formula(formula, **kwargs):\n",
    "    expr = sy.sympify(formula)\n",
    "    return expr.evalf(subs=kwargs)\n",
    "\n",
    "#input\n",
    "n = int(input(\"Insira o tamanho de n: \"))\n",
    "a = int(input(\"Insira o primeiro valor do intervalo: \"))\n",
    "b = int(input(\"Insira o segundo valor do intervalo: \"))\n",
    "eq = input(\"Insira a equação a ser calculada: \")\n",
    "\n",
    "valor = monte_carlo_media(a,b,n,eq)\n",
    "\n",
    "print(valor)"
   ]
  },
  {
   "cell_type": "code",
   "execution_count": 64,
   "metadata": {
    "collapsed": false
   },
   "outputs": [
    {
     "name": "stdout",
     "output_type": "stream",
     "text": [
      "Insira o tamanho de n: 10000\n",
      "Insira o primeiro valor do intervalo: 1\n",
      "Insira o segundo valor do intervalo: 3\n",
      "Insira a equação a ser calculada: x**2\n",
      "8.58779033317043\n"
     ]
    }
   ],
   "source": [
    "#Monte Carlo Hit or Miss\n",
    "import random\n",
    "import sympy as sy\n",
    "\n",
    "def monte_carlo_hm(a,b,n,eq):\n",
    "    h = 0\n",
    "    acum = 0\n",
    "    nzero = 0  \n",
    "    for i in range(n):\n",
    "        gx = formula(x = random.uniform(a,b),formula = eq)\n",
    "        if abs(h) <= abs(gx):\n",
    "            h = gx\n",
    "        y = random.uniform(0,h)\n",
    "        if y <= gx:\n",
    "            nzero += 1\n",
    "    area = (b - a) * h\n",
    "    lim =  area * (nzero / n)\n",
    "    return lim\n",
    "\n",
    "def formula(formula, **kwargs):\n",
    "    expr = sy.sympify(formula)\n",
    "    return expr.evalf(subs=kwargs)\n",
    "\n",
    "#input\n",
    "n = int(input(\"Insira o tamanho de n: \"))\n",
    "a = int(input(\"Insira o primeiro valor do intervalo: \"))\n",
    "b = int(input(\"Insira o segundo valor do intervalo: \"))\n",
    "eq = input(\"Insira a equação a ser calculada: \")\n",
    "\n",
    "valor = monte_carlo_hm(a,b,n,eq)\n",
    "\n",
    "print(valor)\n"
   ]
  }
 ],
 "metadata": {
  "kernelspec": {
   "display_name": "Python 3",
   "language": "python",
   "name": "python3"
  },
  "language_info": {
   "codemirror_mode": {
    "name": "ipython",
    "version": 3
   },
   "file_extension": ".py",
   "mimetype": "text/x-python",
   "name": "python",
   "nbconvert_exporter": "python",
   "pygments_lexer": "ipython3",
   "version": "3.5.2"
  }
 },
 "nbformat": 4,
 "nbformat_minor": 2
}
